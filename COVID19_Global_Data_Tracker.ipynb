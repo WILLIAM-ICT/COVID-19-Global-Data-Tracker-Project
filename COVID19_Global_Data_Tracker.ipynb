# Generate a Jupyter Notebook (.ipynb) for the COVID-19 Global Data Tracker Project
from nbformat import v4 as nbf

# Create a new notebook object
nb = nbf.new_notebook()

# Define the cells
cells = []

# Title and Project Description
cells.append(nbf.new_markdown_cell("""
# COVID-19 Global Data Tracker

**Project Description:**  
This notebook analyzes global COVID-19 data by tracking trends in cases, deaths, and vaccinations. It uses data from [Our World in Data](https://ourworldindata.org/coronavirus), focusing on key countries to visualize and report the global impact of the pandemic.

---
"""))

# Imports
cells.append(nbf.new_code_cell("""
import pandas as pd
import matplotlib.pyplot as plt
import seaborn as sns

# Optional: Plotly for interactive map
# import plotly.express as px

# Configure plots
sns.set(style="whitegrid")
plt.rcParams['figure.figsize'] = (12, 6)
"""))

# Load Data
cells.append(nbf.new_code_cell("""
# Load OWID COVID-19 dataset
file_path = "owid-covid-data.csv"  # Ensure this file is in your working directory

try:
    df = pd.read_csv(file_path)
    print("Data loaded successfully.")
except FileNotFoundError:
    print("File not found. Please download 'owid-covid-data.csv' from Our World in Data.")
"""))

# Data Preview
cells.append(nbf.new_code_cell("""
# Display first few rows and check structure
df.head()
"""))

cells.append(nbf.new_code_cell("""
# Check column names and missing values
print(df.columns)
print(df.isnull().sum().sort_values(ascending=False))
"""))

# Data Cleaning
cells.append(nbf.new_code_cell("""
# Select relevant countries
countries = ['Kenya', 'India', 'United States']
df = df[df['location'].isin(countries)]

# Convert date to datetime
df['date'] = pd.to_datetime(df['date'])

# Fill or interpolate missing values in key columns
df[['total_cases', 'total_deaths', 'new_cases', 'new_deaths', 'total_vaccinations']] = df[
    ['total_cases', 'total_deaths', 'new_cases', 'new_deaths', 'total_vaccinations']
].fillna(method='ffill')
"""))

# EDA: Line Charts for Cases and Deaths
cells.append(nbf.new_code_cell("""
# Line plot of total cases over time
for country in countries:
    subset = df[df['location'] == country]
    plt.plot(subset['date'], subset['total_cases'], label=country)

plt.title("Total COVID-19 Cases Over Time")
plt.xlabel("Date")
plt.ylabel("Total Cases")
plt.legend()
plt.show()
"""))

cells.append(nbf.new_code_cell("""
# Line plot of total deaths over time
for country in countries:
    subset = df[df['location'] == country]
    plt.plot(subset['date'], subset['total_deaths'], label=country)

plt.title("Total COVID-19 Deaths Over Time")
plt.xlabel("Date")
plt.ylabel("Total Deaths")
plt.legend()
plt.show()
"""))

# Daily Cases Comparison
cells.append(nbf.new_code_cell("""
# Compare new daily cases
sns.lineplot(data=df, x='date', y='new_cases', hue='location')
plt.title("Daily New COVID-19 Cases")
plt.xlabel("Date")
plt.ylabel("New Cases")
plt.show()
"""))

# Vaccination Progress
cells.append(nbf.new_code_cell("""
# Plot cumulative vaccinations
sns.lineplot(data=df, x='date', y='total_vaccinations', hue='location')
plt.title("Cumulative COVID-19 Vaccinations")
plt.xlabel("Date")
plt.ylabel("Total Vaccinations")
plt.show()
"""))

# Death Rate Calculation
cells.append(nbf.new_code_cell("""
# Calculate and plot death rate
df['death_rate'] = df['total_deaths'] / df['total_cases']
sns.lineplot(data=df, x='date', y='death_rate', hue='location')
plt.title("COVID-19 Death Rate Over Time")
plt.ylabel("Death Rate")
plt.xlabel("Date")
plt.show()
"""))

# Summary and Insights (Markdown)
cells.append(nbf.new_markdown_cell("""
##Key Insights

- The United States had the highest cumulative number of cases and vaccinations.
- Death rates have decreased over time, likely due to vaccine rollouts.
- Kenya shows lower total case counts but less vaccination coverage than India and the US.
- Spikes in new cases correlate with known pandemic waves in each country.

---

*You can expand this project by adding choropleth maps or building a Streamlit dashboard.*
"""))

# Add cells to notebook
nb['cells'] = cells

# Save notebook
with open("COVID19_Global_Data_Tracker.ipynb", "w", encoding="utf-8") as f:
    import nbformat
    nbformat.write(nb, f)
